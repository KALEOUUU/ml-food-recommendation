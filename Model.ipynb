{
  "cells": [
    {
      "cell_type": "code",
      "execution_count": null,
      "metadata": {
        "id": "CzpJAlEwu8S9"
      },
      "outputs": [],
      "source": [
        "import pandas as pd\n",
        "import numpy as np\n",
        "import joblib\n",
        "import pickle\n",
        "from sklearn.preprocessing import MinMaxScaler\n",
        "from sklearn.metrics.pairwise import cosine_similarity\n",
        "from sklearn.model_selection import train_test_split\n",
        "from sklearn.metrics import mean_absolute_error\n",
        "from sklearn.utils import resample"
      ]
    },
    {
      "cell_type": "code",
      "execution_count": null,
      "metadata": {
        "colab": {
          "base_uri": "https://localhost:8080/",
          "height": 206
        },
        "id": "l-E6fA6DaASD",
        "outputId": "91f7eb06-3449-47e3-b9ef-a50ad7a85137"
      },
      "outputs": [],
      "source": [
        "df = pd.read_csv('Dataset/nutrition_dataset_processed(1).csv')\n",
        "df.head()"
      ]
    },
    {
      "cell_type": "markdown",
      "metadata": {
        "id": "1sf_YEWSbAfz"
      },
      "source": [
        "# **Preprocess Data & Training**"
      ]
    },
    {
      "cell_type": "code",
      "execution_count": null,
      "metadata": {
        "colab": {
          "base_uri": "https://localhost:8080/"
        },
        "id": "4psnsYqNRl5i",
        "outputId": "f4e3188a-ba33-40a7-d22f-0b294158009e"
      },
      "outputs": [],
      "source": [
        "\n",
        "# 🏷️ Define Drink Keywords\n",
        "drink_keywords = {\n",
        "    \"juice\", \"coffee\", \"tea\", \"milk\", \"soda\", \"beer\", \"wine\", \"drink\", \"beverage\",\n",
        "    \"kopi\", \"teh\", \"sirup\", \"sari kedelai\", \"es\", \"jus\", \"susu\", \"cendol\", \"daun teh\",\n",
        "    \"bir\", \"limun\", \"bandrek\", \"kelapa muda\", \"nectar\", \"fruit juice\", \"cola\", \"coke\", \"tonic\",\n",
        "    \"water\", \"coconut water\", \"sprite\", \"limeade\", \"lemonade\", \"yogurt\", \"matcha\", \"chocolate\",\n",
        "    \"smoothie\", \"shake\", \"isotonic\", \"infused\", \"bubble tea\", \"espresso\", \"latte\",\n",
        "    \"americano\", \"mocha\", \"kombucha\", \"energy drink\", \"sherbet\", \"fizz\", \"flavored water\"\n",
        "}\n",
        "\n",
        "# ❌ Define Non-Drink Exclusion List\n",
        "non_drink_keywords = {\n",
        "    \"cheese\", \"udang\", \"shrimp\", \"chicken\", \"salmon\", \"daging\", \"tuna\", \"crab\", \"ikan\",\n",
        "    \"beef\", \"meat\", \"duck\", \"lamb\", \"tofu\", \"tempeh\", \"egg\", \"telur\", \"almond\", \"peanut\",\n",
        "    \"seed\", \"nuts\", \"cashew\", \"pecan\", \"walnut\", \"pistachio\", \"hazelnut\", \"butter\",\n",
        "    \"bread\", \"rice\", \"pasta\", \"noodle\", \"roti\", \"potato\", \"yam\", \"cassava\", \"oncom\", \"nasi\", \"pempek\", \"amaranth\"\n",
        "}\n",
        "\n",
        "meal_type_names = {0: 'Breakfast', 1: 'Carbs', 2: 'Drink', 3: 'Lunch/Dinner', 4: 'Snack'}\n",
        "\n",
        "# 📥 Load Dataset\n",
        "df = pd.read_csv('Dataset/nutrition_dataset_processed(1).csv')\n",
        "\n",
        "\n",
        "# 📌 Strictly Apply Drink Filtering to Meal Type 2\n",
        "df.loc[df['Meal Type'] == 2, :] = df.loc[df['Meal Type'] == 2, :][\n",
        "    df['name'].str.contains('|'.join(drink_keywords), case=False, na=False)\n",
        "]\n",
        "df.loc[df['Meal Type'] == 2, :] = df.loc[df['Meal Type'] == 2, :][\n",
        "    ~df['name'].str.contains('|'.join(non_drink_keywords), case=False, na=False)\n",
        "]\n",
        "\n",
        "df[\"Nutrient_Density\"] = (df[\"proteins\"] + df[\"carbohydrate\"] - df[\"fat\"]) / (df[\"calories\"] + 1e-6)\n",
        "\n",
        "# 📌 Step 2: Handle Missing Values\n",
        "numeric_cols = ['calories', 'fat', 'proteins', 'carbohydrate', 'Nutrient_Density']\n",
        "df[numeric_cols] = df[numeric_cols].fillna(df[numeric_cols].mean())\n",
        "\n",
        "# 🔄 Step 3: Balance Meal Type Distribution\n",
        "meal_counts = df['Meal Type'].value_counts()\n",
        "max_count = meal_counts.max()\n",
        "\n",
        "balanced_df = pd.DataFrame()\n",
        "for meal_type, count in meal_counts.items():\n",
        "    meal_subset = df[df['Meal Type'] == meal_type]\n",
        "\n",
        "    # 🔹 Keep Meal Type 2 (Drinks) as is, don't upsample\n",
        "    if meal_type == 2:\n",
        "        upsampled_meal = meal_subset\n",
        "    else:\n",
        "        upsampled_meal = resample(meal_subset, replace=True, n_samples=max_count, random_state=42)\n",
        "\n",
        "    balanced_df = pd.concat([balanced_df, upsampled_meal])\n",
        "\n",
        "df = balanced_df.reset_index(drop=True)\n",
        "\n",
        "# 🔄 Step 4: Data Augmentation (Adding Small Random Variations)\n",
        "df_augmented = df.copy()\n",
        "df_augmented[numeric_cols] += np.random.uniform(-0.05, 0.05, size=df[numeric_cols].shape)\n",
        "df = pd.concat([df, df_augmented], ignore_index=True)\n",
        "\n",
        "df = df.drop_duplicates(subset=['name'], keep='first').reset_index(drop=True)\n",
        "\n",
        "# 🔄 Step 5: Re-Normalize Features After Augmentation\n",
        "scaler = MinMaxScaler()\n",
        "df_scaled = pd.DataFrame(scaler.fit_transform(df[numeric_cols]), columns=numeric_cols)\n",
        "\n",
        "# ✅ Step 6: Enforce Drink Filtering Again to Prevent Mixed Items\n",
        "df.loc[df['Meal Type'] == 2, :] = df.loc[df['Meal Type'] == 2, :][\n",
        "    df['name'].str.contains('|'.join(drink_keywords), case=False, na=False)\n",
        "]\n",
        "\n",
        "df = df.dropna().reset_index(drop=True)  # Remove any invalid rows before similarity\n",
        "\n",
        "# 📊 Step 7: Compute Cosine Similarity\n",
        "similarity_matrix = cosine_similarity(df_scaled)\n",
        "\n",
        "# 🍽 Step 8: Find Similar Foods Based on Nutritional Input\n",
        "def get_recommendations(calories, fat, proteins, carbohydrate, top_n=5):\n",
        "    input_features = np.array([[calories, fat, proteins, carbohydrate, (proteins + carbohydrate - fat) / (calories + 1e-6)]])  # Set Nutrient_Density to 0 for now\n",
        "    input_scaled = scaler.transform(input_features)\n",
        "    sim_scores = cosine_similarity(input_scaled, df_scaled).flatten()\n",
        "\n",
        "    recommendations = {(meal_type_names[int(meal_type)]): [] for meal_type in df['Meal Type'].unique()}  # Ensure meal type is integer\n",
        "\n",
        "    for meal_type, meal_category in meal_type_names.items():\n",
        "        meal_indices = df[df['Meal Type'] == meal_type].index\n",
        "        meal_similarities = [(idx, sim_scores[idx]) for idx in meal_indices]\n",
        "        meal_similarities = sorted(meal_similarities, key=lambda x: x[1], reverse=True)[:top_n]\n",
        "\n",
        "        recommendations[meal_category] = [{**df.iloc[idx][['name', 'calories', 'fat', 'proteins', 'carbohydrate', 'Nutrient_Density', 'Meal Type']].to_dict(), 'Meal Type': meal_category} for idx, _ in meal_similarities]\n",
        "\n",
        "    # 🎯 Display recommendations by meal type\n",
        "    print(\"\\n🔹 Top Recommendations per Meal Type:\")\n",
        "    for meal_category, items in recommendations.items():\n",
        "        if items:\n",
        "            print(f\"\\n🍽 Meal Type {meal_category}:\")\n",
        "            print(pd.DataFrame(items))\n",
        "\n",
        "    # ✅ Construct an optimal daily meal plan by picking the best match for each meal type\n",
        "    daily_meal_plan = [items[0] for items in recommendations.values() if items]\n",
        "    print(\"\\n✅ Optimal Daily Meal Plan:\")\n",
        "    print(pd.DataFrame(daily_meal_plan))\n",
        "\n",
        "# 🎯 Example Usage\n",
        "get_recommendations(0.1, 0.02, 0.15, 0.05)  # Example input values\n"
      ]
    },
    {
      "cell_type": "markdown",
      "metadata": {
        "id": "TfqQIOSqnEpx"
      },
      "source": [
        "# **Evaluate Model**"
      ]
    },
    {
      "cell_type": "code",
      "execution_count": null,
      "metadata": {
        "colab": {
          "base_uri": "https://localhost:8080/"
        },
        "id": "K-pwVCN9oh6X",
        "outputId": "61df3fb9-0796-44c1-e60b-701b1bba759a"
      },
      "outputs": [],
      "source": [
        "# Load Dataset\n",
        "df = pd.read_csv('Dataset/nutrition_dataset_processed(1).csv')\n",
        "\n",
        "# Select relevant numeric columns\n",
        "numeric_cols = ['calories', 'fat', 'proteins', 'carbohydrate', 'Nutrient_Density']\n",
        "\n",
        "df[numeric_cols] = df[numeric_cols].fillna(df[numeric_cols].mean())\n",
        "\n",
        "# Normalize Data\n",
        "scaler = MinMaxScaler()\n",
        "df_scaled = pd.DataFrame(scaler.fit_transform(df[numeric_cols]), columns=numeric_cols)\n",
        "\n",
        "df_scaled['Meal Type'] = df['Meal Type']\n",
        "df_scaled['name'] = df['name']\n",
        "\n",
        "# Split into Train & Test Sets\n",
        "train_df, test_df = train_test_split(df_scaled, test_size=0.2, random_state=42)\n",
        "\n",
        "# Compute Similarity Matrix\n",
        "similarity_matrix = cosine_similarity(train_df[numeric_cols])\n",
        "\n",
        "# Function to Evaluate Model Performance\n",
        "def evaluate_model(test_data, train_data, top_n=5):\n",
        "    errors = []\n",
        "    similarity_scores = []\n",
        "\n",
        "    for _, test_row in test_data.iterrows():\n",
        "        input_features = test_row[numeric_cols].values.reshape(1, -1)\n",
        "        sim_scores = cosine_similarity(input_features, train_data[numeric_cols]).flatten()\n",
        "\n",
        "        top_indices = np.argsort(sim_scores)[-top_n:][::-1]\n",
        "        top_foods = train_data.iloc[top_indices]\n",
        "\n",
        "        similarity_scores.append(sim_scores[top_indices].mean())\n",
        "\n",
        "        # Compute Mean Absolute Error (MAE) for top recommendation\n",
        "        mae = mean_absolute_error(test_row[numeric_cols], top_foods[numeric_cols].mean())\n",
        "        errors.append(mae)\n",
        "\n",
        "    avg_similarity = np.mean(similarity_scores)\n",
        "    avg_mae = np.mean(errors)\n",
        "\n",
        "    print(f\"\\n📊 Model Evaluation Results:\")\n",
        "    print(f\"✅ Average Similarity Score: {avg_similarity:.4f}\")\n",
        "    print(f\"✅ Mean Absolute Error (MAE): {avg_mae:.4f}\")\n",
        "\n",
        "    return avg_similarity, avg_mae\n",
        "\n",
        "# Run Evaluation\n",
        "evaluate_model(test_df, train_df)"
      ]
    },
    {
      "cell_type": "markdown",
      "metadata": {
        "id": "UsgqW-MfqtzK"
      },
      "source": [
        "# **Testing Model**"
      ]
    },
    {
      "cell_type": "code",
      "execution_count": null,
      "metadata": {
        "colab": {
          "base_uri": "https://localhost:8080/"
        },
        "id": "_mbMvkXlx3hF",
        "outputId": "507c1077-a7c7-4b3b-a13d-af2f3468a438"
      },
      "outputs": [],
      "source": [
        "%pip install joblib"
      ]
    },
    {
      "cell_type": "code",
      "execution_count": null,
      "metadata": {
        "colab": {
          "base_uri": "https://localhost:8080/"
        },
        "id": "V5PKfWfqowjb",
        "outputId": "0cb1b977-d028-409c-89ba-ea2c59198e02"
      },
      "outputs": [],
      "source": [
        "joblib.dump(scaler, 'scaler.pkl')\n",
        "joblib.dump(similarity_matrix, 'similarity_model.pkl')"
      ]
    },
    {
      "cell_type": "code",
      "execution_count": null,
      "metadata": {
        "colab": {
          "base_uri": "https://localhost:8080/"
        },
        "id": "MbDpvQmtoYGC",
        "outputId": "81a42643-3b24-456f-9d4c-7d051a397edb"
      },
      "outputs": [],
      "source": [
        "\n",
        "# Load dataset and model\n",
        "print(\"🔄 Loading dataset and model...\")\n",
        "df = pd.read_csv('Dataset/nutrition_dataset_processed(1).csv')\n",
        "scaler = joblib.load('scaler.pkl')  # Ensure you save the scaler when training\n",
        "similarity_matrix = joblib.load('similarity_model.pkl')  # Save similarity model\n",
        "\n",
        "# Ensure Nutrient Density is properly calculated\n",
        "df[\"Nutrient_Density\"] = (df[\"proteins\"] + df[\"carbohydrate\"] - df[\"fat\"]) / (df[\"calories\"] + 1e-6)\n",
        "\n",
        "# Select relevant columns\n",
        "numeric_cols = ['calories', 'fat', 'proteins', 'carbohydrate', 'Nutrient_Density']\n",
        "df_scaled = pd.DataFrame(scaler.transform(df[numeric_cols]), columns=numeric_cols)\n",
        "\n",
        "def get_recommendations(calories, fat, proteins, carbohydrate, top_n=5):\n",
        "    input_features = np.array([[calories, fat, proteins, carbohydrate, (proteins + carbohydrate - fat) / (calories + 1e-6)]])\n",
        "    input_scaled = scaler.transform(input_features)\n",
        "    sim_scores = cosine_similarity(input_scaled, df_scaled).flatten()\n",
        "\n",
        "    recommendations = {int(meal_type): [] for meal_type in df['Meal Type'].unique()}\n",
        "    for meal_type in recommendations.keys():\n",
        "        meal_indices = df[df['Meal Type'] == meal_type].index\n",
        "        meal_similarities = sorted([(idx, sim_scores[idx]) for idx in meal_indices], key=lambda x: x[1], reverse=True)[:top_n]\n",
        "        recommendations[meal_type] = [df.iloc[idx][['name', 'calories', 'fat', 'proteins', 'carbohydrate', 'Nutrient_Density', 'Meal Type']] for idx, _ in meal_similarities]\n",
        "\n",
        "    return recommendations\n",
        "\n",
        "# Interactive input\n",
        "print(\"\\n🔹 Enter your nutritional preferences:\")\n",
        "calories = float(input(\"Calories: \"))\n",
        "fat = float(input(\"Fat: \"))\n",
        "proteins = float(input(\"Proteins: \"))\n",
        "carbohydrate = float(input(\"Carbohydrate: \"))\n",
        "\n",
        "# Get recommendations\n",
        "recommendations = get_recommendations(calories, fat, proteins, carbohydrate)\n",
        "\n",
        "# Display results\n",
        "print(\"\\n🔹 Top Recommendations per Meal Type:\")\n",
        "for meal_type, items in recommendations.items():\n",
        "    if items:\n",
        "        print(f\"\\n🍽 Meal Type {meal_type}:\")\n",
        "        print(pd.DataFrame(items))\n",
        "\n",
        "# Construct an optimal daily meal plan\n",
        "daily_meal_plan = [items[0] for items in recommendations.values() if items]\n",
        "print(\"\\n✅ Optimal Daily Meal Plan:\")\n",
        "print(pd.DataFrame(daily_meal_plan))\n"
      ]
    },
    {
      "cell_type": "markdown",
      "metadata": {
        "id": "dujv6n2oqfHc"
      },
      "source": [
        "# **Saved Model**"
      ]
    },
    {
      "cell_type": "code",
      "execution_count": null,
      "metadata": {
        "id": "7xRj_-wrpwfV"
      },
      "outputs": [],
      "source": [
        "\n",
        "with open(\"scaler.pkl\", \"wb\") as f:\n",
        "    pickle.dump(scaler, f)\n",
        "\n",
        "df.to_csv(\"processed_dataset.csv\", index=False)"
      ]
    }
  ],
  "metadata": {
    "colab": {
      "provenance": []
    },
    "kernelspec": {
      "display_name": "Python 3",
      "name": "python3"
    },
    "language_info": {
      "codemirror_mode": {
        "name": "ipython",
        "version": 3
      },
      "file_extension": ".py",
      "mimetype": "text/x-python",
      "name": "python",
      "nbconvert_exporter": "python",
      "pygments_lexer": "ipython3",
      "version": "3.11.10"
    }
  },
  "nbformat": 4,
  "nbformat_minor": 0
}
